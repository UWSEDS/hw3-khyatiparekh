{
 "cells": [
  {
   "cell_type": "code",
   "execution_count": 7,
   "metadata": {
    "collapsed": false,
    "deletable": true,
    "editable": true
   },
   "outputs": [],
   "source": [
    "import numpy\n",
    "import pandas as pd\n",
    "data = pd.read_csv('2015_trip_data.csv')\n"
   ]
  },
  {
   "cell_type": "code",
   "execution_count": 8,
   "metadata": {
    "collapsed": false,
    "deletable": true,
    "editable": true
   },
   "outputs": [],
   "source": [
    "data['starttime'] = pd.DatetimeIndex(data['starttime'])\n",
    "data['stoptime'] = pd.DatetimeIndex(data['stoptime'])\n",
    "\n",
    "data['startdayofweek'] = pd.DatetimeIndex(data['starttime']).dayofweek\n",
    "data['stopdayofweek'] = pd.DatetimeIndex(data['stoptime']).dayofweek\n"
   ]
  },
  {
   "cell_type": "code",
   "execution_count": 9,
   "metadata": {
    "collapsed": false,
    "deletable": true,
    "editable": true
   },
   "outputs": [],
   "source": [
    "data['startdate'] = pd.DatetimeIndex(data['starttime']).date\n",
    "data['stopdate'] = pd.DatetimeIndex(data['stoptime']).date\n",
    "\n",
    "from_grouped_by = data.groupby(['from_station_id', 'startdayofweek']).size()\n",
    "to_grouped_by = data.groupby(['to_station_id','stopdayofweek']).size()"
   ]
  },
  {
   "cell_type": "code",
   "execution_count": 10,
   "metadata": {
    "collapsed": false,
    "deletable": true,
    "editable": true
   },
   "outputs": [],
   "source": [
    "days_from = data.groupby(['startdayofweek','startdate']).size().reset_index()\n",
    "days_from = days_from.groupby(['startdayofweek'])['startdate'].count()\n",
    "days_to = data.groupby(['stopdayofweek','stopdate']).size().reset_index()\n",
    "days_to = days_to.groupby(['stopdayofweek'])['stopdate'].count()"
   ]
  },
  {
   "cell_type": "code",
   "execution_count": 11,
   "metadata": {
    "collapsed": false,
    "deletable": true,
    "editable": true
   },
   "outputs": [],
   "source": [
    "avg_from = from_grouped_by/days_from\n",
    "avg_to = to_grouped_by/days_to\n",
    "avg_diff = avg_to.unstack() - avg_from.unstack()"
   ]
  },
  {
   "cell_type": "code",
   "execution_count": 12,
   "metadata": {
    "collapsed": false,
    "deletable": true,
    "editable": true
   },
   "outputs": [
    {
     "data": {
      "text/html": [
       "<div>\n",
       "<table border=\"1\" class=\"dataframe\">\n",
       "  <thead>\n",
       "    <tr style=\"text-align: right;\">\n",
       "      <th>stopdayofweek</th>\n",
       "      <th>0</th>\n",
       "      <th>1</th>\n",
       "      <th>2</th>\n",
       "      <th>3</th>\n",
       "      <th>4</th>\n",
       "      <th>5</th>\n",
       "      <th>6</th>\n",
       "    </tr>\n",
       "    <tr>\n",
       "      <th>to_station_id</th>\n",
       "      <th></th>\n",
       "      <th></th>\n",
       "      <th></th>\n",
       "      <th></th>\n",
       "      <th></th>\n",
       "      <th></th>\n",
       "      <th></th>\n",
       "    </tr>\n",
       "  </thead>\n",
       "  <tbody>\n",
       "    <tr>\n",
       "      <th>BT-01</th>\n",
       "      <td>-0.283019</td>\n",
       "      <td>-0.942308</td>\n",
       "      <td>0.326923</td>\n",
       "      <td>-0.192308</td>\n",
       "      <td>-1.307692</td>\n",
       "      <td>-0.134615</td>\n",
       "      <td>0.903846</td>\n",
       "    </tr>\n",
       "    <tr>\n",
       "      <th>BT-03</th>\n",
       "      <td>-0.811321</td>\n",
       "      <td>-1.557692</td>\n",
       "      <td>-1.826923</td>\n",
       "      <td>-3.019231</td>\n",
       "      <td>-3.576923</td>\n",
       "      <td>-3.230769</td>\n",
       "      <td>-1.596154</td>\n",
       "    </tr>\n",
       "    <tr>\n",
       "      <th>BT-04</th>\n",
       "      <td>-1.113208</td>\n",
       "      <td>-1.134615</td>\n",
       "      <td>-0.846154</td>\n",
       "      <td>-1.596154</td>\n",
       "      <td>-1.288462</td>\n",
       "      <td>-0.384615</td>\n",
       "      <td>-0.634615</td>\n",
       "    </tr>\n",
       "    <tr>\n",
       "      <th>BT-05</th>\n",
       "      <td>0.132075</td>\n",
       "      <td>0.192308</td>\n",
       "      <td>0.519231</td>\n",
       "      <td>1.038462</td>\n",
       "      <td>-0.346154</td>\n",
       "      <td>-0.019231</td>\n",
       "      <td>0.230769</td>\n",
       "    </tr>\n",
       "    <tr>\n",
       "      <th>CBD-03</th>\n",
       "      <td>2.943396</td>\n",
       "      <td>2.750000</td>\n",
       "      <td>3.346154</td>\n",
       "      <td>2.576923</td>\n",
       "      <td>3.346154</td>\n",
       "      <td>2.673077</td>\n",
       "      <td>1.250000</td>\n",
       "    </tr>\n",
       "  </tbody>\n",
       "</table>\n",
       "</div>"
      ],
      "text/plain": [
       "stopdayofweek         0         1         2         3         4         5  \\\n",
       "to_station_id                                                               \n",
       "BT-01         -0.283019 -0.942308  0.326923 -0.192308 -1.307692 -0.134615   \n",
       "BT-03         -0.811321 -1.557692 -1.826923 -3.019231 -3.576923 -3.230769   \n",
       "BT-04         -1.113208 -1.134615 -0.846154 -1.596154 -1.288462 -0.384615   \n",
       "BT-05          0.132075  0.192308  0.519231  1.038462 -0.346154 -0.019231   \n",
       "CBD-03         2.943396  2.750000  3.346154  2.576923  3.346154  2.673077   \n",
       "\n",
       "stopdayofweek         6  \n",
       "to_station_id            \n",
       "BT-01          0.903846  \n",
       "BT-03         -1.596154  \n",
       "BT-04         -0.634615  \n",
       "BT-05          0.230769  \n",
       "CBD-03         1.250000  "
      ]
     },
     "execution_count": 12,
     "metadata": {},
     "output_type": "execute_result"
    }
   ],
   "source": [
    "avg_diff.head()"
   ]
  },
  {
   "cell_type": "code",
   "execution_count": 13,
   "metadata": {
    "collapsed": false,
    "deletable": true,
    "editable": true
   },
   "outputs": [
    {
     "data": {
      "text/html": [
       "<div>\n",
       "<table border=\"1\" class=\"dataframe\">\n",
       "  <thead>\n",
       "    <tr style=\"text-align: right;\">\n",
       "      <th>stopdayofweek</th>\n",
       "      <th>0</th>\n",
       "      <th>1</th>\n",
       "      <th>2</th>\n",
       "      <th>3</th>\n",
       "      <th>4</th>\n",
       "      <th>5</th>\n",
       "      <th>6</th>\n",
       "    </tr>\n",
       "    <tr>\n",
       "      <th>to_station_id</th>\n",
       "      <th></th>\n",
       "      <th></th>\n",
       "      <th></th>\n",
       "      <th></th>\n",
       "      <th></th>\n",
       "      <th></th>\n",
       "      <th></th>\n",
       "    </tr>\n",
       "  </thead>\n",
       "  <tbody>\n",
       "    <tr>\n",
       "      <th>BT-01</th>\n",
       "      <td>14.924528</td>\n",
       "      <td>12.980769</td>\n",
       "      <td>13.384615</td>\n",
       "      <td>15.211538</td>\n",
       "      <td>16.403846</td>\n",
       "      <td>21.942308</td>\n",
       "      <td>16.403846</td>\n",
       "    </tr>\n",
       "    <tr>\n",
       "      <th>BT-03</th>\n",
       "      <td>10.075472</td>\n",
       "      <td>9.865385</td>\n",
       "      <td>10.096154</td>\n",
       "      <td>8.634615</td>\n",
       "      <td>9.057692</td>\n",
       "      <td>8.250000</td>\n",
       "      <td>8.942308</td>\n",
       "    </tr>\n",
       "    <tr>\n",
       "      <th>BT-04</th>\n",
       "      <td>6.188679</td>\n",
       "      <td>5.615385</td>\n",
       "      <td>5.730769</td>\n",
       "      <td>5.519231</td>\n",
       "      <td>5.307692</td>\n",
       "      <td>3.884615</td>\n",
       "      <td>3.326923</td>\n",
       "    </tr>\n",
       "    <tr>\n",
       "      <th>BT-05</th>\n",
       "      <td>9.566038</td>\n",
       "      <td>9.634615</td>\n",
       "      <td>9.403846</td>\n",
       "      <td>10.576923</td>\n",
       "      <td>9.576923</td>\n",
       "      <td>9.692308</td>\n",
       "      <td>7.884615</td>\n",
       "    </tr>\n",
       "    <tr>\n",
       "      <th>CBD-03</th>\n",
       "      <td>11.754717</td>\n",
       "      <td>11.461538</td>\n",
       "      <td>11.865385</td>\n",
       "      <td>11.730769</td>\n",
       "      <td>12.288462</td>\n",
       "      <td>8.615385</td>\n",
       "      <td>8.192308</td>\n",
       "    </tr>\n",
       "  </tbody>\n",
       "</table>\n",
       "</div>"
      ],
      "text/plain": [
       "stopdayofweek          0          1          2          3          4  \\\n",
       "to_station_id                                                          \n",
       "BT-01          14.924528  12.980769  13.384615  15.211538  16.403846   \n",
       "BT-03          10.075472   9.865385  10.096154   8.634615   9.057692   \n",
       "BT-04           6.188679   5.615385   5.730769   5.519231   5.307692   \n",
       "BT-05           9.566038   9.634615   9.403846  10.576923   9.576923   \n",
       "CBD-03         11.754717  11.461538  11.865385  11.730769  12.288462   \n",
       "\n",
       "stopdayofweek          5          6  \n",
       "to_station_id                        \n",
       "BT-01          21.942308  16.403846  \n",
       "BT-03           8.250000   8.942308  \n",
       "BT-04           3.884615   3.326923  \n",
       "BT-05           9.692308   7.884615  \n",
       "CBD-03          8.615385   8.192308  "
      ]
     },
     "execution_count": 13,
     "metadata": {},
     "output_type": "execute_result"
    }
   ],
   "source": [
    "fromdata = from_grouped_by.unstack()\n",
    "todata = to_grouped_by.unstack()\n",
    "\n",
    "for i in range(len(days_from)):\n",
    "    fromdata[i] = fromdata[i]/days_from[i]\n",
    "\n",
    "\n",
    "for i in range(len(days_to)):\n",
    "    todata[i] = todata[i]/days_to[i]"
   ]
  },
  {
   "cell_type": "code",
   "execution_count": 14,
   "metadata": {
    "collapsed": false,
    "deletable": true,
    "editable": true
   },
   "outputs": [],
   "source": [
    "diff_from_to = to_grouped_by.unstack() - from_grouped_by.unstack()"
   ]
  },
  {
   "cell_type": "code",
   "execution_count": 15,
   "metadata": {
    "collapsed": false,
    "deletable": true,
    "editable": true
   },
   "outputs": [
    {
     "data": {
      "text/html": [
       "<div>\n",
       "<table border=\"1\" class=\"dataframe\">\n",
       "  <thead>\n",
       "    <tr style=\"text-align: right;\">\n",
       "      <th>stopdayofweek</th>\n",
       "      <th>0</th>\n",
       "      <th>1</th>\n",
       "      <th>2</th>\n",
       "      <th>3</th>\n",
       "      <th>4</th>\n",
       "      <th>5</th>\n",
       "      <th>6</th>\n",
       "    </tr>\n",
       "    <tr>\n",
       "      <th>to_station_id</th>\n",
       "      <th></th>\n",
       "      <th></th>\n",
       "      <th></th>\n",
       "      <th></th>\n",
       "      <th></th>\n",
       "      <th></th>\n",
       "      <th></th>\n",
       "    </tr>\n",
       "  </thead>\n",
       "  <tbody>\n",
       "    <tr>\n",
       "      <th>BT-01</th>\n",
       "      <td>-15.0</td>\n",
       "      <td>-49.0</td>\n",
       "      <td>17.0</td>\n",
       "      <td>-10.0</td>\n",
       "      <td>-68.0</td>\n",
       "      <td>-7.0</td>\n",
       "      <td>47.0</td>\n",
       "    </tr>\n",
       "    <tr>\n",
       "      <th>BT-03</th>\n",
       "      <td>-43.0</td>\n",
       "      <td>-81.0</td>\n",
       "      <td>-95.0</td>\n",
       "      <td>-157.0</td>\n",
       "      <td>-186.0</td>\n",
       "      <td>-168.0</td>\n",
       "      <td>-83.0</td>\n",
       "    </tr>\n",
       "    <tr>\n",
       "      <th>BT-04</th>\n",
       "      <td>-59.0</td>\n",
       "      <td>-59.0</td>\n",
       "      <td>-44.0</td>\n",
       "      <td>-83.0</td>\n",
       "      <td>-67.0</td>\n",
       "      <td>-20.0</td>\n",
       "      <td>-33.0</td>\n",
       "    </tr>\n",
       "    <tr>\n",
       "      <th>BT-05</th>\n",
       "      <td>7.0</td>\n",
       "      <td>10.0</td>\n",
       "      <td>27.0</td>\n",
       "      <td>54.0</td>\n",
       "      <td>-18.0</td>\n",
       "      <td>-1.0</td>\n",
       "      <td>12.0</td>\n",
       "    </tr>\n",
       "    <tr>\n",
       "      <th>CBD-03</th>\n",
       "      <td>156.0</td>\n",
       "      <td>143.0</td>\n",
       "      <td>174.0</td>\n",
       "      <td>134.0</td>\n",
       "      <td>174.0</td>\n",
       "      <td>139.0</td>\n",
       "      <td>65.0</td>\n",
       "    </tr>\n",
       "  </tbody>\n",
       "</table>\n",
       "</div>"
      ],
      "text/plain": [
       "stopdayofweek      0      1      2      3      4      5     6\n",
       "to_station_id                                                \n",
       "BT-01          -15.0  -49.0   17.0  -10.0  -68.0   -7.0  47.0\n",
       "BT-03          -43.0  -81.0  -95.0 -157.0 -186.0 -168.0 -83.0\n",
       "BT-04          -59.0  -59.0  -44.0  -83.0  -67.0  -20.0 -33.0\n",
       "BT-05            7.0   10.0   27.0   54.0  -18.0   -1.0  12.0\n",
       "CBD-03         156.0  143.0  174.0  134.0  174.0  139.0  65.0"
      ]
     },
     "execution_count": 15,
     "metadata": {},
     "output_type": "execute_result"
    }
   ],
   "source": [
    "diff_from_to.head()"
   ]
  },
  {
   "cell_type": "code",
   "execution_count": 22,
   "metadata": {
    "collapsed": false,
    "deletable": true,
    "editable": true
   },
   "outputs": [],
   "source": [
    "import numpy as np\n",
    "import matplotlib.pyplot as plt\n",
    "%matplotlib inline\n",
    "def plot_bar1(df, day, opts):\n",
    "    \"\"\"\n",
    "    :param df.DataFrame df\n",
    "    :param dict opts: key is plot attribute\n",
    "    :param day: day (column) to plot\n",
    "    \"\"\"\n",
    "    \n",
    "    n_groups = len(df.index)\n",
    "    index = np.arange(n_groups)\n",
    "    rects1 = plt.bar(index, df[day])\n",
    "    \n",
    "    if 'xlabel' in opts:\n",
    "        plt.xlabel(opts['xlabel'])\n",
    "    if 'ylabel' in opts:\n",
    "        plt.ylabel(opts['ylabel'])\n",
    "    if 'xticks' in opts and opts['xticks']:\n",
    "        plt.xticks(index, todata.index)\n",
    "        _, labels = plt.xticks()\n",
    "        plt.setp(labels, rotation = 90)\n",
    "    else:\n",
    "        labels = ['' for x in todata.index]\n",
    "        plt.xticks(index, labels)\n",
    "    if 'ylim' in opts:\n",
    "        plt.ylim(opts['ylim'])\n",
    "    if 'title' in opts:\n",
    "        plt.title(opts['title'])\n",
    "        "
   ]
  },
  {
   "cell_type": "code",
   "execution_count": 23,
   "metadata": {
    "collapsed": false,
    "deletable": true,
    "editable": true
   },
   "outputs": [
    {
     "data": {
      "image/png": "[encoded data removed]",
      "text/plain": [
       "<matplotlib.figure.Figure at 0x110ef5c88>"
      ]
     },
     "metadata": {},
     "output_type": "display_data"
    }
   ],
   "source": [
    "fig = plt.figure(figsize=(14, 8))  # Controls global properties of the bar plot\n",
    "opts = {'xlabel': 'Stations', 'ylabel': 'Counts', 'xticks': True}\n",
    "plot_bar1(avg_diff, 0, opts)"
   ]
  },
  {
   "cell_type": "code",
   "execution_count": 26,
   "metadata": {
    "collapsed": true,
    "deletable": true,
    "editable": true
   },
   "outputs": [],
   "source": [
    "def plot_barN(df, variables, opts):\n",
    "\n",
    "    \n",
    "    num_columns = len(variables)\n",
    "    days = ['Monday','Tuesday','Wednesday','Thursday','Friday','Saturday','Sunday']\n",
    "    opts['title'] = days\n",
    "    local_opts = dict(opts)\n",
    "    idx = 0\n",
    "    local_opts['title'] = days\n",
    "    for var in variables:\n",
    "        idx += 1\n",
    "        local_opts['xticks'] = False\n",
    "        local_opts['xlabel'] = ''\n",
    "        local_opts['title'] = opts['title'][var]\n",
    "        if idx == num_columns:\n",
    "            local_opts['xticks'] = True\n",
    "            local_opts['xlabel'] = opts['xlabel']\n",
    "\n",
    "        plt.subplot(num_columns, 1, idx)\n",
    "        plot_bar1(df, var, local_opts)"
   ]
  },
  {
   "cell_type": "code",
   "execution_count": 27,
   "metadata": {
    "collapsed": false
   },
   "outputs": [
    {
     "data": {
      "image/png": "[encoded data removed]",
      "text/plain": [
       "<matplotlib.figure.Figure at 0x11164ab00>"
      ]
     },
     "metadata": {},
     "output_type": "display_data"
    }
   ],
   "source": [
    "fig = plt.figure(figsize=(10,30))\n",
    "opts = {'xlabel': 'Stations', 'ylabel': 'Average Counts', 'xticks': True, 'ylim': [round(avg_diff.min() - 1).min(), round(avg_diff.max() + 1).max()]}\n",
    "plot_barN(avg_diff, range(7), opts)"
   ]
  },
  {
   "cell_type": "code",
   "execution_count": null,
   "metadata": {
    "collapsed": true
   },
   "outputs": [],
   "source": []
  }
 ],
 "metadata": {
  "kernelspec": {
   "display_name": "Python 3",
   "language": "python",
   "name": "python3"
  },
  "language_info": {
   "codemirror_mode": {
    "name": "ipython",
    "version": 3
   },
   "file_extension": ".py",
   "mimetype": "text/x-python",
   "name": "python",
   "nbconvert_exporter": "python",
   "pygments_lexer": "ipython3",
   "version": "3.6.0"
  }
 },
 "nbformat": 4,
 "nbformat_minor": 2
}
